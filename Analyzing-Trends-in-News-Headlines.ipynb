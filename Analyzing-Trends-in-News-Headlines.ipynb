{
 "cells": [
  {
   "cell_type": "markdown",
   "metadata": {},
   "source": [
    "# Analyzing Trends in News Headlines\n",
    "---"
   ]
  },
  {
   "cell_type": "markdown",
   "metadata": {},
   "source": [
    "## Introduction\n",
    "---\n",
    "\n",
    "* Why I am doing this\n",
    "    * Feels like I only see negative news, wanted to check if that's so\n",
    "* Wanted to see if major celebrations effect the amount of negative news\n",
    "* Wanted to see if there are any patterns in the amount of negative news\n",
    "    * Time of day\n",
    "    * Time of the mounth\n",
    "* Wanted to analyze which country is mentioned the most in the news\n",
    "* Wanted to analyze which president is mentioned the most in the news\n",
    "\n",
    "Whenever I opened a homepage of a news website, I was greeted with at least five most recent news headlines. Usually, four out of five or even all the headlines carried a negative message, \"a plain crashed\", \"new virus was found\", \"there is a nuclear threat\", \"a terrorist group has done something\", etc. While I opened the homepage with a good mood, after reading a few negative headlines, my mood would instantlry change and I would get depressed, because so many bad things are happening to our society.\n",
    "\n",
    "There were many posts written about why the headlines are dominated with negative news, some say it is, because the news come from all over the world, and that is why it seems that only negative things are happening around us, even though nothing bad happened in their your city. Another, very interesting reason, is that people make naive decisions while they are depressed. Busineses can benefit from this, because while people are depressed they are more scared to lose their job, and since everyone is in constant stress the sales in the entertainment industry have been on the rise. Finacial institutions can also benefit from this, since people are depressed they make unwise decisions and sell their investments (house, car, stacks, etc.) at low cost.\n",
    "\n",
    "I have decided to check if the news publishers try to manipulate people using the top news headlines (since that's what most people see most of the time). For this I used three news publishers that were best known to me, they were Russia Today (RT), The Washington Times (WT), and The Canadian Broadcasting Corporation (CBC). I decided to collect and analyze political headlines of theses news publishers.\n",
    "\n",
    "To try to support some of the assumptions about negative news headlines, for example \"... since everyone is in constant stress the sales ... have been on the rise\". In the city I live, we have The Calgary Stampede festival, which is a ten-day event. I wanted to find out if there would be more or less negative news during that period. I also wanted to find any patterns in negative news headlines being posted in general, for example, if there are always less negative headlines on Tuesdays, or if there are always more negative headlines on the first day of the month, etc.\n",
    "\n",
    "While collecting news headlines, I have noticed that in many of the headlines the names Trump, Putin, and Trudeau came up very often, I have decided to collect this data and in the end, see who is the most \"famous\" president/prime minister. Also, a lot of the headlines had country names in them, I have decided to collect this data as well, and later see, which country makes it into the news most often."
   ]
  },
  {
   "cell_type": "markdown",
   "metadata": {},
   "source": [
    "## Collecting Data\n",
    "---\n",
    "\n",
    "* Where I am getting the data\n",
    "* Talk about running a server on DigitalOcean\n",
    "* Show part of the python `scraper.py` script\n",
    "* Talk about the identifies, N, J, what they mean\n",
    "* Talk about the Watson API\n",
    "\n",
    "### Data Sources\n",
    "\n",
    "For my sources I decided to scrape websites of three news publishers for approximently one month of time. I scraped the homepage of [RT](https://www.rt.com/), the politics page of [The Washington Times](http://www.washingtontimes.com/news/politics/), and the politics page of [CBC News](http://www.cbc.ca/news/politics).\n",
    "\n",
    "To scrape the websites, I made a Python script `scraper.py`, the script collected news headlines at different times throughout the day. The script would scrape all three websites in the morning at 11:00AM, then during the day at 14:00PM. and finally in the evening at 18:00PM. \n",
    "\n",
    "The reason for using three different news publishers and scheduling the script to scrape at differnt times throughout the day was, because I was trying to get as much variation as possible, to help me find as many insights from the data.\n",
    "\n",
    "### Automating Work\n",
    "\n",
    "To save my self the time and headache of remembering to scrape the websites at certain times, I spun a simple Ubuntu droplet on DigitalOcean. I used the [Python Schedule package](https://pypi.python.org/pypi/schedule) to automate the script to run at specific times throughout the day.\n",
    "\n",
    "To run the script as a background process I used the following command `nohup python3 scraper.py > scraper.out 2>scraper.err &`.\n",
    "\n",
    "\n",
    "### Watson API\n",
    "\n",
    "To analyze the news headlines I used IBM's Watson [Natural Language Understanding](https://natural-language-understanding-demo.mybluemix.net/) (NLU) API. NLU is a collection of different APIs that analyze text to help understand its concepts, entities, keywords, sentiment, and more.\n",
    "\n",
    "For every news headline I requested the sentiment (provided a score for headline either negative, positive, or neutral), emotions (joy, anger, disgust, sadness, and fear), and entities (identified people, companies, countries, etc.) to be returned by the NLU API.\n",
    "\n",
    "### Scraper Script\n",
    "\n",
    "The following is a chunk from `scraper.py` script, the chunk was used to scrape, analyse, and then write the information (news headlines and their analysis) to a `.txt` file from the RT homepage. Similarly structured code was used to scrape and save the analysis for headlines from the other two publishers.\n",
    "\n",
    "```python\n",
    "    ...\n",
    "\n",
    "    with open(filename, mode) as fp:\n",
    "\n",
    "        # Start of Russia Today news\n",
    "        fp.write('N RT\\n')\n",
    "\n",
    "        # Scrapes the website of Russia Today news network and writes news headlines to a file\n",
    "        for ul_tag in soup.find_all('ul', {'class': 'main-promobox__list'}):\n",
    "            for li_tag in ul_tag.find_all('li', {'class': 'main-promobox__item'}):\n",
    "                for headline in li_tag.find_all('a', {'class': 'main-promobox__link'}):\n",
    "\n",
    "                    news_headline = headline.text.lstrip().replace('\\n', '')\n",
    "\n",
    "                    fp.write('H ')\n",
    "                    fp.write(news_headline)\n",
    "                    fp.write('\\n')\n",
    "                    fp.write('J ')\n",
    "                    json.dump(NLU.analyze(text=news_headline, features=[features.Sentiment(), \n",
    "                            features.Emotion(), features.Entities()]), fp)\n",
    "                    fp.write('\\n')\n",
    "    ...\n",
    "```"
   ]
  },
  {
   "cell_type": "markdown",
   "metadata": {},
   "source": [
    "## Data Wrangling\n",
    "---\n",
    "\n",
    "* Show the txt file, show how the data was initially being stored\n",
    "* Convert JSON objects into CSV\n",
    "* Remove irrelavent things from the Entities item, parse for `Trump` amd `Putin`\n",
    "* Figure something out with morning, day, and evening news\n",
    "    * Different starting dates\n",
    "    \n",
    "### Storing/Saving Data\n",
    "\n",
    "The following is a chunk from one of the `.txt` files containing information (news headlines and their analysis) from all three news publishers. It shows how the information was being stored after every time a website was parsed.\n",
    "\n",
    "The data shows the first two headlines from RT homepage.\n",
    "\n",
    "* **N** indicates the start of a new news publisher\n",
    "* **H** indicates a new headline\n",
    "* **J** indicates the NLU analysis of the above headline\n",
    "\n",
    "```sh\n",
    "...\n",
    "\n",
    "N RT\n",
    "\n",
    "H ‘Putin wanted Hillary Clinton to win the election’ – Trump                                                                    \n",
    "J {\"language\": \"en\", \"entities\": [{\"relevance\": 0.33, \"count\": 1, \"text\": \"Hillary Clinton\", \"type\": \"Person\", \"disambiguation\": {\"dbpedia_resource\": \"http://dbpedia.org/resource/Hillary_Rodham_Clinton\", \"name\": \"Hillary Rodham Clinton\", \"subtype\": [\"Politician\", \"Appointee\", \"AwardWinner\", \"BoardMember\", \"Celebrity\", \"HallOfFameInductee\", \"OperaCharacter\", \"Senator\", \"U.S.Congressperson\", \"TVActor\"]}}, {\"relevance\": 0.33, \"count\": 1, \"text\": \"Trump\", \"type\": \"Company\"}], \"sentiment\": {\"document\": {\"label\": \"neutral\", \"score\": 0.0}}, \"emotion\": {\"document\": {\"emotion\": {\"anger\": 0.179606, \"disgust\": 0.139299, \"sadness\": 0.270869, \"joy\": 0.256665, \"fear\": 0.082043}}}}\n",
    "\n",
    "H Berlin to boost aviation safety amid fears hackers can hijack warplanes                                                                    \n",
    "J {\"language\": \"en\", \"entities\": [{\"relevance\": 0.33, \"count\": 1, \"text\": \"Berlin\", \"type\": \"Location\", \"disambiguation\": {\"subtype\": [\"City\"]}}], \"sentiment\": {\"document\": {\"label\": \"neutral\", \"score\": 0.0}}, \"emotion\": {\"document\": {\"emotion\": {\"anger\": 0.020501, \"disgust\": 0.034013, \"sadness\": 0.011869, \"joy\": 0.021755, \"fear\": 0.755602}}}}\n",
    "\n",
    "...\n",
    "```"
   ]
  },
  {
   "cell_type": "markdown",
   "metadata": {},
   "source": [
    "### JSON to CSV\n",
    "\n",
    "To be able to work with the collected information using the Python `pandas` module, I had to convert it into a `pandas` readable format, such as CSV. The following shows the parsed version of the above chuck from the `.txt` file in a CSV format."
   ]
  },
  {
   "cell_type": "code",
   "execution_count": 51,
   "metadata": {},
   "outputs": [
    {
     "data": {
      "text/html": [
       "<div>\n",
       "<style>\n",
       "    .dataframe thead tr:only-child th {\n",
       "        text-align: right;\n",
       "    }\n",
       "\n",
       "    .dataframe thead th {\n",
       "        text-align: left;\n",
       "    }\n",
       "\n",
       "    .dataframe tbody tr th {\n",
       "        vertical-align: top;\n",
       "    }\n",
       "</style>\n",
       "<table border=\"1\" class=\"dataframe\">\n",
       "  <thead>\n",
       "    <tr style=\"text-align: right;\">\n",
       "      <th></th>\n",
       "      <th>TIME</th>\n",
       "      <th>TIME_OF_DAY</th>\n",
       "      <th>NETWORK</th>\n",
       "      <th>HEADLINE</th>\n",
       "      <th>SENTIMENT_LABEL</th>\n",
       "      <th>SENTIMENT_SCORE</th>\n",
       "      <th>EMOTION_SADNESS</th>\n",
       "      <th>EMOTION_FEAR</th>\n",
       "      <th>EMOTION_ANGER</th>\n",
       "      <th>EMOTION_DISGUST</th>\n",
       "      <th>EMOTION_JOY</th>\n",
       "      <th>PUTIN</th>\n",
       "      <th>TRUMP</th>\n",
       "      <th>TRUDEAU</th>\n",
       "    </tr>\n",
       "  </thead>\n",
       "  <tbody>\n",
       "    <tr>\n",
       "      <th>0</th>\n",
       "      <td>11:00:01</td>\n",
       "      <td>Morning</td>\n",
       "      <td>RT</td>\n",
       "      <td>‘Putin wanted Hillary Clinton to win the elect...</td>\n",
       "      <td>neutral</td>\n",
       "      <td>0.0</td>\n",
       "      <td>0.270869</td>\n",
       "      <td>0.082043</td>\n",
       "      <td>0.179606</td>\n",
       "      <td>0.139299</td>\n",
       "      <td>0.256665</td>\n",
       "      <td>1</td>\n",
       "      <td>1</td>\n",
       "      <td>0</td>\n",
       "    </tr>\n",
       "    <tr>\n",
       "      <th>1</th>\n",
       "      <td>11:00:01</td>\n",
       "      <td>Morning</td>\n",
       "      <td>RT</td>\n",
       "      <td>Berlin to boost aviation safety amid fears hac...</td>\n",
       "      <td>neutral</td>\n",
       "      <td>0.0</td>\n",
       "      <td>0.011869</td>\n",
       "      <td>0.755602</td>\n",
       "      <td>0.020501</td>\n",
       "      <td>0.034013</td>\n",
       "      <td>0.021755</td>\n",
       "      <td>0</td>\n",
       "      <td>0</td>\n",
       "      <td>0</td>\n",
       "    </tr>\n",
       "  </tbody>\n",
       "</table>\n",
       "</div>"
      ],
      "text/plain": [
       "       TIME TIME_OF_DAY NETWORK  \\\n",
       "0  11:00:01     Morning      RT   \n",
       "1  11:00:01     Morning      RT   \n",
       "\n",
       "                                            HEADLINE SENTIMENT_LABEL  \\\n",
       "0  ‘Putin wanted Hillary Clinton to win the elect...         neutral   \n",
       "1  Berlin to boost aviation safety amid fears hac...         neutral   \n",
       "\n",
       "   SENTIMENT_SCORE  EMOTION_SADNESS  EMOTION_FEAR  EMOTION_ANGER  \\\n",
       "0              0.0         0.270869      0.082043       0.179606   \n",
       "1              0.0         0.011869      0.755602       0.020501   \n",
       "\n",
       "   EMOTION_DISGUST  EMOTION_JOY  PUTIN  TRUMP  TRUDEAU  \n",
       "0         0.139299     0.256665      1      1        0  \n",
       "1         0.034013     0.021755      0      0        0  "
      ]
     },
     "execution_count": 51,
     "metadata": {},
     "output_type": "execute_result"
    }
   ],
   "source": [
    "import pandas as pd\n",
    "\n",
    "# Read data into a dataframe\n",
    "example = pd.read_csv('JSON-to-CSV-Example.csv')\n",
    "\n",
    "# Remove the ID column\n",
    "example = sample.iloc[:, 1:]\n",
    "\n",
    "# Show the first 2 rows of the dataframe\n",
    "example.head(2)"
   ]
  },
  {
   "cell_type": "markdown",
   "metadata": {},
   "source": [
    "### Missing Values\n",
    "\n",
    "Sometimes the Watson IBM interpreted the headline as being written in languages other than English, for example French, because of this the `Emotion` property was missing from the analysis.\n",
    "\n",
    "```sh\n",
    "\n",
    "H Montreal nixes sovereignist group's plan to mark Charles de Gaulle's 'Vive le Quebec libre!' speech\n",
    "\n",
    "J {\"warnings\": [\"emotion: unsupported text language: fr\"], \"language\": \"fr\", \"entities\": [{\"relevance\": 0.978347, \"count\": 1, \"text\": \"Charles de Gaulle\", \"type\": \"Person\"}], \"sentiment\": {\"document\": {\"label\": \"positive\", \"score\": 0.688072}}}\n",
    "\n",
    "```\n",
    "\n",
    "### Country Presidents\n",
    "\n",
    "To pick the country names and president names from each headline, I requested the `Entities` property to be returned by the Watson API, the API did a good job in doing so, but sometimes the API would make a mistake. For the following headline the Watson API did not recognize `Putin` to be a president or a person of any type, and it recognized `Trump` to be a company and not a person of type president.\n",
    "\n",
    "```sh\n",
    "\n",
    "H ‘Putin wanted Hillary Clinton to win the election’ – Trump                                                                    \n",
    "J {\"language\": \"en\", \"entities\": [{\"relevance\": 0.33, \"count\": 1, \"text\": \"Hillary Clinton\", \"type\": \"Person\", \"disambiguation\": {\"dbpedia_resource\": \"http://dbpedia.org/resource/Hillary_Rodham_Clinton\", \"name\": \"Hillary Rodham Clinton\", \"subtype\": [\"Politician\", \"Appointee\", \"AwardWinner\", \"BoardMember\", \"Celebrity\", \"HallOfFameInductee\", \"OperaCharacter\", \"Senator\", \"U.S.Congressperson\", \"TVActor\"]}}, {\"relevance\": 0.33, \"count\": 1, \"text\": \"Trump\", \"type\": \"Company\"}], \"sentiment\": {\"document\": {\"label\": \"neutral\", \"score\": 0.0}}, \"emotion\": {\"document\": {\"emotion\": {\"anger\": 0.179606, \"disgust\": 0.139299, \"sadness\": 0.270869, \"joy\": 0.256665, \"fear\": 0.082043}}}}\n",
    "\n",
    "```\n",
    "\n",
    "Since, I wanted to avoid these types of errors in the future, I decided to parse the news headline for presidents names instead of the `Entities` property. This worked well, because I was only interested in three presidents/prime ministers `Trump`, `Trudeau`, and `Putin`."
   ]
  },
  {
   "cell_type": "markdown",
   "metadata": {},
   "source": [
    "## Analyzing Data\n",
    "---\n",
    "\n",
    "* Compare the quantity of Negative, Positive, and Neutral news headlines\n",
    "\n",
    "    * This needs to be done using all news headlines\n",
    "    * Pie Chart\n",
    "    \n",
    "* How does **day/date** effect the  quantity of Negative and Positive news\n",
    "\n",
    "    * Trying to find patterns\n",
    "        * If the number of negative news repeats every week\n",
    "    * This needs to be done using all news headlines\n",
    "    * Group news by Date \n",
    "    * Count the number of Negative and Positive news in each group\n",
    "    * Use Line Chart to compare Negative and Positive news over time\n",
    "    * Two lines, one for Negative and one for Positive\n",
    "    \n",
    "* How does **time of day** effect the quantity of Negative and Positive news\n",
    "\n",
    "    * This needs to be done using all news headlines\n",
    "    * Group news by Time_of_Day \n",
    "    * Count the number of Negative and Positive news in each group\n",
    "    * Use Column Chart to compare Negative and Positive in the morning, day, and evening\n",
    "    * Three columns, one for morning, one for day, and one for evening\n",
    "    \n",
    "* How do big celebrations (Stampede) effect the quantity of Negative and Positive news\n",
    "\n",
    "    * **Maybe they increased because they want people to be depressed and spend more money**\n",
    "\n",
    "    * Did they increase or decrease over the course of that week\n",
    "    * This needs to be done using all news headlines\n",
    "    * Create a new dataframe, consisting only of CBC news\n",
    "    * Group the new dataframe by Date and count the number of Negative and Positive news\n",
    "    * Use Line Chart to compare Negative and Positive news over time\n",
    "    * Only one line showing CBC news (would be nice to find a way to highlight the stampede week)\n",
    "    \n",
    "* Compare the Emoitions (Joy, Anger, Saddness, etc...)\n",
    "\n",
    "    * This needs to be done using all news headlines\n",
    "    * Group news by Time_of_Day \n",
    "    * For every group (morning, day, evening)\n",
    "        * Take the highest emotion from every headline (every row)\n",
    "        * Then figure out which emotion dominates, higher the frequence --> more dominant\n",
    "        * Plot a Histogram\n",
    "    * Plot three Histogram, one for morning, one for day, and one for evening"
   ]
  },
  {
   "cell_type": "code",
   "execution_count": 31,
   "metadata": {},
   "outputs": [],
   "source": [
    "# Show the first 5 rows of the table\n",
    "# sample.head(5)"
   ]
  },
  {
   "cell_type": "code",
   "execution_count": 52,
   "metadata": {
    "collapsed": true
   },
   "outputs": [],
   "source": [
    "import matplotlib.pyplot as plt\n",
    "import pandas as pd\n",
    "import numpy as np\n",
    "%matplotlib inline\n",
    "\n",
    "# Read data into a dataframe\n",
    "sample = pd.read_csv('test.csv')\n",
    "\n",
    "# Remove the ID column\n",
    "sample = sample.iloc[:, 1:]"
   ]
  },
  {
   "cell_type": "markdown",
   "metadata": {},
   "source": [
    "### Composition of News Headlines\n",
    "\n",
    "* This needs to be done using all news headlines\n",
    "* Pie Chart\n",
    "\n",
    "Turns out that besides negative headlines there are also positive and neutral (as ranked by the watson API) headlines."
   ]
  },
  {
   "cell_type": "code",
   "execution_count": 156,
   "metadata": {},
   "outputs": [
    {
     "data": {
      "image/png": "[encoded data removed]",
      "text/plain": [
       "<matplotlib.figure.Figure at 0x108160240>"
      ]
     },
     "metadata": {},
     "output_type": "display_data"
    }
   ],
   "source": [
    "# Returns the count of Neutral, Negative, and Positive news headlines\n",
    "count = sample['SENTIMENT_LABEL'].value_counts()\n",
    "\n",
    "labels = 'Neutral', 'Negative', 'Positive'\n",
    "sizes = [count[0], count[1], count[2]]\n",
    "\n",
    "fig1, ax1 = plt.subplots(figsize = (6, 6))\n",
    "ax1.pie(sizes, \n",
    "        labels = labels, \n",
    "        autopct = '%1.1f%%', \n",
    "        startangle = 90)\n",
    "\n",
    "# Makes the Pie Chart round\n",
    "ax1.axis('equal')\n",
    "\n",
    "plt.show()"
   ]
  },
  {
   "cell_type": "markdown",
   "metadata": {},
   "source": [
    "### Day of the Week vs. Number of Negative, Positive, and Neutral News Headlines\n",
    "\n",
    "* Trying to find patterns\n",
    "    * If the number of negative news repeats every week\n",
    "* This needs to be done using all news headlines\n",
    "* Group news by Date \n",
    "* Count the number of Negative and Positive news in each group\n",
    "    * Count the number of Negative and Positive news in each day\n",
    "* Use Line Chart to compare Negative and Positive news over time\n",
    "* Two lines, one for Negative and one for Positive"
   ]
  },
  {
   "cell_type": "code",
   "execution_count": 167,
   "metadata": {},
   "outputs": [
    {
     "name": "stdout",
     "output_type": "stream",
     "text": [
      "['2017-07-12', '2017-07-13']\n"
     ]
    }
   ],
   "source": [
    "emotions = ['negative', 'neutral', 'positive']\n",
    "\n",
    "# Get a list of all dates, [2017-07-12, 2017-07-13, ...]\n",
    "dates = list(sample.groupby('DATE').groups.keys())\n",
    "\n",
    "# Group rows by DATE and in each group count the number of Negative, Neutral, and Positive news\n",
    "date_grouped = sample.groupby('DATE').SENTIMENT_LABEL.value_counts()\n",
    "\n",
    "# print(date_grouped['2017-07-12']['negative'])"
   ]
  },
  {
   "cell_type": "markdown",
   "metadata": {},
   "source": [
    "### Time of Day vs. Number of Negative, Positive, and Neutral News Headlines\n",
    "\n",
    "* This needs to be done using all news headlines\n",
    "* Group news by Time_of_Day \n",
    "* Count the number of Negative and Positive news in each group\n",
    "    * Count the number of Negative and Positive news in the morningn day, and evening\n",
    "* Use Column Chart to compare Negative and Positive in the morning, day, and evening\n",
    "* Three columns, one for morning, one for day, and one for evening"
   ]
  },
  {
   "cell_type": "code",
   "execution_count": null,
   "metadata": {
    "collapsed": true
   },
   "outputs": [],
   "source": []
  },
  {
   "cell_type": "markdown",
   "metadata": {},
   "source": [
    "### Effect of Big Celebrations on the Number of Negative, Positive, and Neutral News Headlines\n",
    "\n",
    "* **Maybe they increased because they want people to be depressed and spend more money**\n",
    "\n",
    "* Did they increase or decrease over the course of that week\n",
    "* This needs to be done using all news headlines\n",
    "* Create a new dataframe, consisting only of CBC news\n",
    "* Group the new dataframe by Date and count the number of Negative and Positive news\n",
    "* Use Line Chart to compare Negative and Positive news over time\n",
    "* Only one line showing CBC news (would be nice to find a way to highlight the stampede week)"
   ]
  },
  {
   "cell_type": "code",
   "execution_count": null,
   "metadata": {
    "collapsed": true
   },
   "outputs": [],
   "source": []
  },
  {
   "cell_type": "markdown",
   "metadata": {},
   "source": [
    "### The Dominant Emoition\n",
    "\n",
    "* This needs to be done using all news headlines\n",
    "* Group news by Time_of_Day \n",
    "* For every group (morning, day, evening)\n",
    "    * Take the highest emotion from every headline (every row)\n",
    "    * Then figure out which emotion dominates, higher the frequence --> more dominant\n",
    "    * Plot a Histogram\n",
    "* Plot three Histogram, one for morning, one for day, and one for evening"
   ]
  },
  {
   "cell_type": "code",
   "execution_count": null,
   "metadata": {
    "collapsed": true
   },
   "outputs": [],
   "source": []
  },
  {
   "cell_type": "markdown",
   "metadata": {},
   "source": [
    "## Visualizations\n",
    "---\n",
    "\n",
    "* Who is the most mentioned president\n",
    "    * Trump, Putin, Trudeau\n",
    "    * This needs to be done using all news headlines\n",
    "    * Pie  Chart\n",
    "* Which country is the most mentioned\n",
    "    * Russia, America, Canada, etc.\n",
    "    * Bar Chart (not column chart)\n",
    "* Which emotion doninates\n",
    "    * Bubble Chart with bubbles being the emojis corresponding to the feeling\n",
    "    * Higher the frequency bigger the bubble/emoji"
   ]
  },
  {
   "cell_type": "markdown",
   "metadata": {},
   "source": [
    "### Who is the Most Famous President/Prime Minister?\n",
    "\n",
    "To find out who is the most famous president/prime minister I summed up the `PUTIN` column, `TRUMP` column, and the `TRUDEAU` column.\n",
    "\n",
    "As shown below, ?? is the most famous ??."
   ]
  },
  {
   "cell_type": "code",
   "execution_count": 54,
   "metadata": {},
   "outputs": [
    {
     "data": {
      "image/png": "[encoded data removed]",
      "text/plain": [
       "<matplotlib.figure.Figure at 0x10817a438>"
      ]
     },
     "metadata": {},
     "output_type": "display_data"
    }
   ],
   "source": [
    "putin_count = sample['PUTIN'].sum()\n",
    "trump_count = sample['TRUMP'].sum()\n",
    "trudeau_count = sample['TRUDEAU'].sum()\n",
    "\n",
    "labels = 'Putin', 'Trump', 'Trudeau'\n",
    "sizes = [putin_count, trump_count, trudeau_count]\n",
    "\n",
    "fig1, ax1 = plt.subplots(figsize = (6, 6))\n",
    "ax1.pie(sizes, \n",
    "        labels = labels, \n",
    "        autopct = '%1.1f%%', \n",
    "        startangle = 90)\n",
    "\n",
    "# Makes the Pie Chart round\n",
    "ax1.axis('equal')\n",
    "\n",
    "plt.tight_layout()\n",
    "plt.show()"
   ]
  },
  {
   "cell_type": "markdown",
   "metadata": {},
   "source": [
    "### Which Country Makes it into the News Most Often?"
   ]
  },
  {
   "cell_type": "markdown",
   "metadata": {},
   "source": [
    "Since, it would be difficult to keep truck of all the different countries in a CSV file, I have decided to extract them in JSON format.\n",
    "\n",
    "As shown below, ?? is a country that makes it into the news most often."
   ]
  },
  {
   "cell_type": "code",
   "execution_count": 100,
   "metadata": {},
   "outputs": [
    {
     "data": {
      "image/png": "[encoded data removed]",
      "text/plain": [
       "<matplotlib.figure.Figure at 0x1080d7b38>"
      ]
     },
     "metadata": {},
     "output_type": "display_data"
    }
   ],
   "source": [
    "countries = {\n",
    "  \"Bermuda\": 1,\n",
    "  \"Canada\": 5,\n",
    "  \"China\": 1,\n",
    "  \"Iran\": 1,\n",
    "  \"Iraq\": 1,\n",
    "  \"North Korea\": 1,\n",
    "  \"Russia\": 2,\n",
    "  \"US\": 8,\n",
    "  \"Yemen\": 1\n",
    "}\n",
    "\n",
    "y = []\n",
    "x = []\n",
    "labels = []\n",
    "\n",
    "counter = 1\n",
    "\n",
    "for country in countries:\n",
    "    x.append(counter)\n",
    "    counter += 1\n",
    "    y.append(countries[country])\n",
    "    labels.append(country)\n",
    "    \n",
    "fig1, ax1 = plt.subplots(figsize = (12, 6))\n",
    "ax1.bar(x, y, zorder = 3)\n",
    "\n",
    "plt.tight_layout()\n",
    "plt.grid(zorder = 0)\n",
    "plt.xticks(x, labels)\n",
    "plt.show()"
   ]
  }
 ],
 "metadata": {
  "kernelspec": {
   "display_name": "Python 3",
   "language": "python",
   "name": "python3"
  },
  "language_info": {
   "codemirror_mode": {
    "name": "ipython",
    "version": 3
   },
   "file_extension": ".py",
   "mimetype": "text/x-python",
   "name": "python",
   "nbconvert_exporter": "python",
   "pygments_lexer": "ipython3",
   "version": "3.5.1"
  }
 },
 "nbformat": 4,
 "nbformat_minor": 2
}
